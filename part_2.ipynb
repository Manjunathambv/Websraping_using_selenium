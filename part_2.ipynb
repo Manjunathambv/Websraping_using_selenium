{
 "cells": [
  {
   "cell_type": "code",
   "execution_count": 1,
   "id": "ad0bbc58",
   "metadata": {},
   "outputs": [],
   "source": [
    "from selenium import webdriver\n",
    "from selenium.webdriver.chrome.service import Service\n",
    "from selenium.webdriver.support import expected_conditions as EC\n",
    "from selenium.webdriver.support.ui import WebDriverWait\n",
    "from selenium.webdriver.common.by import By\n",
    "from bs4 import BeautifulSoup\n",
    "from selenium.common.exceptions import TimeoutException\n",
    "import time\n",
    "import ast\n",
    "\n",
    "from collections import OrderedDict \n",
    "import time\n",
    "from datetime import datetime, timedelta\n",
    "\n",
    "import pandas as pd\n",
    "import numpy as np\n",
    "import matplotlib.pyplot as plt\n",
    "%matplotlib inline\n"
   ]
  },
  {
   "cell_type": "code",
   "execution_count": 2,
   "id": "f5c68562",
   "metadata": {},
   "outputs": [],
   "source": [
    "service = Service(executable_path=\"./chromedriver.exe\")\n",
    "driver = webdriver.Chrome(service = service)"
   ]
  },
  {
   "cell_type": "code",
   "execution_count": 3,
   "id": "98087caf",
   "metadata": {},
   "outputs": [],
   "source": [
    "driver.get(\"https://www.instagram.com/\")"
   ]
  },
  {
   "cell_type": "code",
   "execution_count": 4,
   "id": "d6d0a962",
   "metadata": {},
   "outputs": [],
   "source": [
    "#update your username and password here\n",
    "username = 'Sample Username'\n",
    "password = 'Sample password'\n",
    "\n",
    "#initializing  wait object\n",
    "wait = WebDriverWait(driver, 10)\n",
    "def LogIn(username, password):\n",
    "    try :\n",
    "        #locating username textbox and sending username\n",
    "        user_name = wait.until(EC.presence_of_element_located((By.NAME,'username')))\n",
    "        user_name.send_keys(username)\n",
    "        #locating password box and sending password\n",
    "        pwd = driver.find_element(By.NAME, 'password')\n",
    "        pwd.send_keys(password)\n",
    "        #locating login button \n",
    "        button = wait.until(EC.presence_of_element_located((By.XPATH,'//*[@id=\"loginForm\"]/div[1]/div[3]/button/div')))\n",
    "        button.submit()\n",
    "        #Save Your Login Info? : Not Now\n",
    "        time.sleep(2)\n",
    "        pop = wait.until(EC.presence_of_element_located((By.CLASS_NAME,'_ac8f')))\n",
    "        pop.click()\n",
    "        \n",
    "    except TimeoutException :\n",
    "        print (\"Something went wrong! Try Again\")\n",
    "        \n",
    "        \n",
    "LogIn(username, password)"
   ]
  },
  {
   "cell_type": "code",
   "execution_count": 5,
   "id": "1fb578f6",
   "metadata": {},
   "outputs": [],
   "source": [
    "def search_open_profile(s):\n",
    "    try:\n",
    "        #locatong search box bar and sending text \n",
    "        wait = WebDriverWait(driver, 10)\n",
    "        search_box = wait.until(EC.presence_of_element_located((By.XPATH, \"//input[@placeholder='Search']\")))\n",
    "        \n",
    "        time.sleep(3)\n",
    "\n",
    "        search_box.send_keys(s)\n",
    "        #locating serched result\n",
    "        time.sleep(3)\n",
    "        res = wait.until(EC.presence_of_element_located((By.XPATH, \"//div/div[contains(@class, 'x9f619')]/a[contains(@href, '/')]/div\")))\n",
    "        res.click()           \n",
    "\n",
    "        time.sleep(5)\n",
    "        #driver.back()\n",
    "\n",
    "    except TimeoutException :\n",
    "        print('No Search Found!')\n",
    "        "
   ]
  },
  {
   "cell_type": "markdown",
   "id": "62010573",
   "metadata": {},
   "source": [
    "### Problem 1 : Analyse the habits of bloggers\n",
    "#Now your friend has followed a lot of different food bloggers, he needs to analyse the habits of these bloggers.\n",
    "* 1.From the list of instagram handles you obtained when you searched ‘food’ in previous project. Open the first 10 handles and find the top 5 which have the highest number of followers\n",
    "* 2.Now Find the number of posts these handles have done in the previous 3 days.\n",
    "* 3.Depict this information using a suitable graph."
   ]
  },
  {
   "cell_type": "code",
   "execution_count": 6,
   "id": "a6efc80e",
   "metadata": {},
   "outputs": [],
   "source": [
    "#First 10 handles from part-1\n",
    "handles_list = [\"foodiesandy_\", \"foodtalkindia\", \"dilsefoodie\", \"foodistamysuru\", \n",
    " \"foody.monk\", \"foodie_brahamana\", \"foodpharmer\", \"yourfoodlab\",\"foodstorieswithus\", \"foodloversindia\"]"
   ]
  },
  {
   "cell_type": "code",
   "execution_count": 7,
   "id": "fd5784af",
   "metadata": {},
   "outputs": [],
   "source": [
    "#function for getting top 5 handle which have highest number of followers\n",
    "def top_5_handles(lst):\n",
    "    try:\n",
    "        #dct contains username with number of followers\n",
    "        dct = {}\n",
    "        for i in lst :\n",
    "            #This fuction will search a user and open that profile\n",
    "            search_open_profile(i)\n",
    "            time.sleep(3)\n",
    "            #locating followers of user\n",
    "            followers = driver.find_elements(By.CLASS_NAME, '_ac2a')[1]\n",
    "            time.sleep(3)\n",
    "            #replacing ',' with '' and converted into int\n",
    "            dct[i] = int(followers.get_attribute('title').replace(',' , ''))\n",
    "            time.sleep(3)\n",
    "            driver.back()\n",
    "            time.sleep(3)\n",
    "        #top 5 most followed user\n",
    "        count = 0\n",
    "        res = OrderedDict()\n",
    "        for i in sorted(dct, key=dct.get, reverse=True):\n",
    "            res[i] = dct[i]\n",
    "            count += 1\n",
    "            if(count >= 5) : \n",
    "                break\n",
    "                \n",
    "        return res\n",
    "    except TimeoutException :\n",
    "        print (\"Something went wrong! Try Again\")"
   ]
  },
  {
   "cell_type": "code",
   "execution_count": 9,
   "id": "0af64f22",
   "metadata": {},
   "outputs": [],
   "source": [
    "top_handles = top_5_handles(handles_list)"
   ]
  },
  {
   "cell_type": "code",
   "execution_count": 10,
   "id": "34c9f644",
   "metadata": {},
   "outputs": [
    {
     "name": "stdout",
     "output_type": "stream",
     "text": [
      "Top 5 instagram handles which have the highest number of followers :\n",
      "yourfoodlab -> 2726443\n",
      "dilsefoodie -> 1190710\n",
      "foodpharmer -> 1076174\n",
      "foodtalkindia -> 310040\n",
      "foody.monk -> 204248\n"
     ]
    }
   ],
   "source": [
    "print('Top 5 instagram handles which have the highest number of followers :')\n",
    "for uname in top_handles:\n",
    "    print(uname,'->',top_handles[uname])"
   ]
  },
  {
   "cell_type": "code",
   "execution_count": 11,
   "id": "2451fad3",
   "metadata": {},
   "outputs": [],
   "source": [
    "#this function returns number of post posted by user in n days\n",
    "def count_of_post(day):\n",
    "    try :\n",
    "        #locating first post\n",
    "        post = driver.find_element(By.XPATH, \"//div[contains (@class, '_aabd')]/a\")\n",
    "        post.click()\n",
    "        \n",
    "        time.sleep(2)\n",
    "        count = 0 \n",
    "        while True :\n",
    "            #getting date of the the post\n",
    "            temp = driver.find_element(By.TAG_NAME, 'time')\n",
    "            time.sleep(2)\n",
    "            #getting date in string format\n",
    "            date_string = temp.get_attribute('datetime')\n",
    "            time.sleep(2)\n",
    "            #converting into date format\n",
    "            date = datetime.strptime(date_string[0:19], \"%Y-%m-%dT%H:%M:%S\")\n",
    "            time.sleep(2)\n",
    "            #taking differnce between today's date and post posted date\n",
    "            if (datetime.now() - date).days > day :\n",
    "                break\n",
    "            else :\n",
    "                count += 1\n",
    "            #locating next button\n",
    "            next_but = driver.find_element(By.XPATH, \"//div[contains (@class, '_aaqg')]/button\")\n",
    "            time.sleep(1)\n",
    "            next_but.click()\n",
    "        #closing the post\n",
    "        close=driver.find_element(By.XPATH, \"//div[contains (@class, 'x160vmok')]//div[contains (@role, 'button')]\")\n",
    "        close.click()\n",
    "        return count\n",
    "    \n",
    "    except TimeoutException :\n",
    "        print (\"Something went wrong! Try Again\")"
   ]
  },
  {
   "cell_type": "code",
   "execution_count": 12,
   "id": "d6aaea1b",
   "metadata": {},
   "outputs": [],
   "source": [
    "total_post_count = {}\n",
    "for i in top_handles :\n",
    "    search_open_profile(i)\n",
    "    time.sleep(3)\n",
    "    count = count_of_post(3)\n",
    "    total_post_count[i] = count\n",
    "    driver.back()\n",
    "    time.sleep(3)"
   ]
  },
  {
   "cell_type": "code",
   "execution_count": 13,
   "id": "1e80b26d",
   "metadata": {},
   "outputs": [
    {
     "name": "stdout",
     "output_type": "stream",
     "text": [
      "Number of posts these handles have done in the previous 3 days : -\n",
      "yourfoodlab 3\n",
      "dilsefoodie 7\n",
      "foodpharmer 0\n",
      "foodtalkindia 6\n",
      "foody.monk 0\n"
     ]
    }
   ],
   "source": [
    "print('Number of posts these handles have done in the previous 3 days : -')\n",
    "for i in total_post_count:\n",
    "    print(i,total_post_count[i])"
   ]
  },
  {
   "cell_type": "code",
   "execution_count": 14,
   "id": "104b5ce9",
   "metadata": {},
   "outputs": [
    {
     "data": {
      "image/png": "[encoded data removed]",
      "text/plain": [
       "<Figure size 432x288 with 1 Axes>"
      ]
     },
     "metadata": {
      "needs_background": "light"
     },
     "output_type": "display_data"
    }
   ],
   "source": [
    "# using total_post_count to get username and number of post\n",
    "x = total_post_count.keys()\n",
    "y = total_post_count.values()\n",
    "plt.bar(x,y,color='g',alpha=0.6)\n",
    "plt.ylabel(\"Number of posts in the previous 3 days\",size=10)\n",
    "plt.xlabel(\"Username\",size=10)\n",
    "plt.title('Most Followed user vs Number of recent posts ',fontsize=20, color='green',alpha=0.8)\n",
    "plt.grid()\n",
    "plt.show()"
   ]
  },
  {
   "cell_type": "markdown",
   "id": "e5fb9726",
   "metadata": {},
   "source": [
    "### Problem 2 : List of hashtags\n",
    "Your friend also needs a list of hashtags that he should use in his posts.\n",
    "* 1.Open the 5 handles you obtained in the last question, and scrape the content of the first 10 posts of each handle.\n",
    "* 2.Prepare a list of all words used in all the scraped posts and calculate the frequency of each word.\n",
    "* 3.Create a csv file with two columns : the word and its frequency\n",
    "* 4.Now, find the hashtags that were most popular among these bloggers\n",
    "* 5.Plot a Pie Chart of the top 5 hashtags obtained and the number of times they were used by these bloggers in the scraped posts."
   ]
  },
  {
   "cell_type": "code",
   "execution_count": 15,
   "id": "0e521654",
   "metadata": {},
   "outputs": [],
   "source": [
    "def extract_content(lst):\n",
    "    try :\n",
    "        hashtags_list = []\n",
    "        \n",
    "        for user in lst:\n",
    "            #This fuction will search a user and open that profile\n",
    "            search_open_profile(user)\n",
    "            time.sleep(3)\n",
    "            #just for scrolling to getting post\n",
    "            driver.execute_script('window.scrollTo(0, 3000);')\n",
    "            time.sleep(2)\n",
    "            driver.execute_script('window.scrollTo(0, -3000);')\n",
    "            time.sleep(2)\n",
    "            \n",
    "            #locating the post of the user\n",
    "            posts = driver.find_elements(By.XPATH, \"//div[contains (@class, '_aabd')]/a\")\n",
    "            for post in posts[:10]:\n",
    "                post.click()\n",
    "                time.sleep(3)\n",
    "                \n",
    "                #locating all hashtag used in this post\n",
    "                hashtags=driver.find_elements(By.XPATH, \"//div[contains (@class, '_a9zs')]/h1/a\")\n",
    "                for hashtag in hashtags:\n",
    "                    text = hashtag.text\n",
    "                    if \"#\" in text:\n",
    "                        hashtags_list.append(text)\n",
    "                    #appending in list\n",
    "                    #hashtags_list.append(hashtag.text)  \n",
    "                \n",
    "                #locating close button and clicking on it\n",
    "                close=driver.find_element(By.XPATH, \"//div[contains (@class, 'x160vmok')]//div[contains (@role, 'button')]\")\n",
    "\n",
    "                time.sleep(3)\n",
    "                close.click()\n",
    "            driver.back()\n",
    "            time.sleep(2)\n",
    "        return hashtags_list\n",
    "    \n",
    "    except TimeoutException :\n",
    "        print (\"Something went wrong! Try Again\")"
   ]
  },
  {
   "cell_type": "code",
   "execution_count": 16,
   "id": "9d56c68f",
   "metadata": {},
   "outputs": [
    {
     "data": {
      "text/plain": [
       "['yourfoodlab', 'dilsefoodie', 'foodpharmer', 'foodtalkindia', 'foody.monk']"
      ]
     },
     "execution_count": 16,
     "metadata": {},
     "output_type": "execute_result"
    }
   ],
   "source": [
    "handles = list(total_post_count.keys())\n",
    "handles"
   ]
  },
  {
   "cell_type": "code",
   "execution_count": 19,
   "id": "c2ac0354",
   "metadata": {},
   "outputs": [],
   "source": [
    "hashtags = extract_content(handles)"
   ]
  },
  {
   "cell_type": "code",
   "execution_count": 20,
   "id": "f493a549",
   "metadata": {},
   "outputs": [
    {
     "name": "stdout",
     "output_type": "stream",
     "text": [
      "['#dilsefoodie', '#food', '#diwali', '#diwali23', '#hampers', '#dilsefoodie', '#food', '#patiaalahousethailand', '#nonveg', '#dilsefoodie', '#food', '#cholekulche', '#streetfood', '#dilsefoodie', '#Pistachio', '#HappyDiwali2023', '#Food', '#ChandniChowk', '#Californiapistachios', '#Pistachios', '#AmericanPistachiosIndia', '#AmericanPistachios', '#Ad', '#dilsefoodie', '#food', '#cholebhature', '#streetfood', '#dilsefoodie', '#food', '#Happydiwali', '#celebration', '#dilsefoodie', '#food', '#canada', '#blogger', '#streetfood', '#dilsefoodie', '#food', '#paneer', '#tikka', '#bangalore', '#dilsefoodie', '#food', '#haldwani', '#biryani', '#dilsefoodie', '#food', '#justlookinglikeawow', '#aerocity', '#food', '#ingredients', '#podcast', '#rajshamani', '#figuringout', '#FoodPharmer', '#Food', '#HealthyFood', '#USAGrocery', '#Indiangrocery', '#CelebrationMenu', '#Biryani', '#BiryaniPulao', '#Pulao', '#ITCHotels', '#ITC', '#ITCButlerService', '#ITCButler', '#ButlerService', '#Butler', '#SignatureButlerService', '#ButlerAtHome', '#GourmetOrdering', '#Diwali', '#DiwaliCatering', '#DrasIce', '#ColdAsDras', '#RevolutionizingIce', '#Cocktails', '#Drinks', '#ColdDrinks', '#Fresh', '#Discover', '#DiwaliDelights', '#FestiveCuration', '#ITCHotels', '#GiftOfLove', '#DiwaliGift', '#DiwaliGiftHamper', '#DiwaliGifting', '#GiftHamper', '#GiftHampers', '#FestivalGift', '#FestiveCurations', '#FabelleDesserts', '#Nankhatai', '#SweetTreats', '#JoyfulGifting', '#CelebratingLife', '#ITC', '#MakeItATEN', '#TinyTENSalon', '#Farmio', '#FarmioGrocery', '#ElevateYourCuisine', '#FreshnessMatters', '#Discover', '#Groceries', '#Meat', '#FrozenMeat', '#Seafood', '#FrozenSeafood', '#Prawns', '#Fish', '#ImportedFruits', '#DiwaliDelights', '#DiwaliGift', '#DiwaliGiftHamper', '#DiwaliGifting', '#GiftHamper', '#GiftHampers', '#FestivalGift', '#DiwaliGift', '#DiwaliGiftHamper', '#DiwaliGifting', '#GiftHamper', '#GiftHampers', '#FestivalGift', '#FestiveCurations', '#CelebratingLife', '#ITC', '#ITCHotels', '#ITCCollection', '#ByITC', '#GourmetCouch', '#Indian', '#IndianFood', '#LuxuryDining', '#MasterChef', '#SignatureMenu', '#Gourmet', '#Food', '#Flavourful', '#ResponsibleLuxury', '#Hampers', '#Diwali', '#DiwaliHampers', '#Gift', '#GiftBoxes', '#DiwaliHampers', '#GiftingDiwali', '#DiwaliGift', '#DiwaliGifting', '#GourmetHampers', '#BakedGifts', '#baileyspayasam', '#baileysdesserts', '#baileys', '#payasam', '#festiverecipes', '#GlasswareGems', '#DiwaliParty', '#DiwaliEssentials', '#Diwali', '#Diwali2023', '#PartyInStyle', '#Discover', '#Crockery', '#Glassware', '#Luxury', '#Luxe', '#Obsessed', '#ButlerService', '#ITCHotels', '#PartyButler', '#PartyWithITCHotels', '#ITCHotelsButlers', '#GourmetCouch', '#Gourmet', '#CelebrateDiwali', '#DiwaliParty', '#Hosting', '#Discover', '#foodymonk', '#eatwithmonk', '#foodymonk', '#eatwithmonk', '#foodymonk', '#eatwithmonk', '#kolar', '#bangaloretirupatihighway', '#bangalorefoodies', '#bengalurufoodie', '#bangaloredays', '#streetfood', '#mulbagal', '#reels', '#reelsinstagram', '#reeloftheday', '#reelitfeelit', '#reelkarofeelkaro', '#kannadareels', '#foodymonk', '#eatwithmonk', '#monkugoinginternational', '#thailand', '#thailandtourism', '#bangkok', '#pattaya', '#pattayathailand', '#reels', '#reelsinstagram', '#reeloftheday', '#reelitfeelit', '#reelkarofeelkaro', '#kannadareels', '#foodymonk', '#eatwithmonk', '#davangere', '#davangerediaries', '#bennedose', '#masaladosa', '#streetfood', '#bangaloredays', '#bengalurufoodie', '#bangalorefoodies', '#reels', '#reelsinstagram', '#reeloftheday', '#reelitfeelit', '#reekkarofeelkaro', '#kannadareels', '#foodymonk', '#eatwithmonk', '#hassan', '#hassanamba', '#travelgram', '#bangaloredays', '#bengalurufoodie', '#travelvlogger', '#bangalorefoodies', '#reels', '#reelsinstagram', '#reeloftheday', '#reelitfeelit', '#reelkarofeelkaro', '#kannadareels', '#foodymonk', '#eatwithmonk', '#pulav', '#homefood', '#kitchenrecipes', '#bangaloredays', '#bengalurufoodie', '#pulao', '#bangalorefoodies', '#reels', '#reelsinstagram', '#reeloftheday', '#reelitfeelit', '#reelkarofeelkaro', '#kannadareels', '#foodymonk', '#eatwithmonk', '#nagarbhavi', '#gulkand', '#streetfood', '#bangaloredays', '#bengalurufoodie', '#eveningsnacks', '#bangalorefoodies', '#reels', '#reelsinstagram', '#reeloftheday', '#reelitfeelit', '#reelkarofeelkaro', '#kannadareels', '#foodymonk', '#eatwithmonk', '#deepavali2023', '#diwali2023', '#marathahalli', '#kajukatli', '#mysorepak', '#motichoorladoo', '#bangaloredays', '#bengalurufoodie', '#reels', '#reelsinstagram', '#reeloftheday', '#reelitfeelit', '#reelkarofeelkaro', '#kannadareels', '#foodymonk', '#eatwithmonk', '#vijaynagar', '#southindianfood', '#breakfast', '#streetfood', '#bangaloredays', '#bengalurufoodie', '#bangalorefoodies', '#reels', '#reelsinstagram', '#reeloftheday', '#reelitfeelit', '#reelkarofeelkaro', '#kannadareels']\n"
     ]
    }
   ],
   "source": [
    "print(hashtags)"
   ]
  },
  {
   "cell_type": "code",
   "execution_count": 21,
   "id": "8b2f0628",
   "metadata": {},
   "outputs": [
    {
     "name": "stdout",
     "output_type": "stream",
     "text": [
      "#dilsefoodie 10\n",
      "#food 10\n",
      "#foodymonk 10\n",
      "#eatwithmonk 10\n",
      "#reels 8\n",
      "#reelsinstagram 8\n",
      "#reeloftheday 8\n",
      "#reelitfeelit 8\n",
      "#kannadareels 8\n",
      "#streetfood 7\n",
      "#bengalurufoodie 7\n",
      "#bangaloredays 7\n",
      "#reelkarofeelkaro 7\n",
      "#bangalorefoodies 6\n",
      "#ITCHotels 4\n",
      "#Discover 4\n",
      "#DiwaliGift 4\n",
      "#DiwaliGifting 4\n",
      "#Food 3\n",
      "#ITC 3\n",
      "#Diwali 3\n",
      "#DiwaliGiftHamper 3\n",
      "#GiftHamper 3\n",
      "#GiftHampers 3\n",
      "#FestivalGift 3\n",
      "#ButlerService 2\n",
      "#DiwaliDelights 2\n",
      "#FestiveCurations 2\n",
      "#CelebratingLife 2\n",
      "#GourmetCouch 2\n",
      "#Gourmet 2\n",
      "#DiwaliHampers 2\n",
      "#DiwaliParty 2\n",
      "#diwali 1\n",
      "#diwali23 1\n",
      "#hampers 1\n",
      "#patiaalahousethailand 1\n",
      "#nonveg 1\n",
      "#cholekulche 1\n",
      "#Pistachio 1\n",
      "#HappyDiwali2023 1\n",
      "#ChandniChowk 1\n",
      "#Californiapistachios 1\n",
      "#Pistachios 1\n",
      "#AmericanPistachiosIndia 1\n",
      "#AmericanPistachios 1\n",
      "#Ad 1\n",
      "#cholebhature 1\n",
      "#Happydiwali 1\n",
      "#celebration 1\n",
      "#canada 1\n",
      "#blogger 1\n",
      "#paneer 1\n",
      "#tikka 1\n",
      "#bangalore 1\n",
      "#haldwani 1\n",
      "#biryani 1\n",
      "#justlookinglikeawow 1\n",
      "#aerocity 1\n",
      "#ingredients 1\n",
      "#podcast 1\n",
      "#rajshamani 1\n",
      "#figuringout 1\n",
      "#FoodPharmer 1\n",
      "#HealthyFood 1\n",
      "#USAGrocery 1\n",
      "#Indiangrocery 1\n",
      "#CelebrationMenu 1\n",
      "#Biryani 1\n",
      "#BiryaniPulao 1\n",
      "#Pulao 1\n",
      "#ITCButlerService 1\n",
      "#ITCButler 1\n",
      "#Butler 1\n",
      "#SignatureButlerService 1\n",
      "#ButlerAtHome 1\n",
      "#GourmetOrdering 1\n",
      "#DiwaliCatering 1\n",
      "#DrasIce 1\n",
      "#ColdAsDras 1\n",
      "#RevolutionizingIce 1\n",
      "#Cocktails 1\n",
      "#Drinks 1\n",
      "#ColdDrinks 1\n",
      "#Fresh 1\n",
      "#FestiveCuration 1\n",
      "#GiftOfLove 1\n",
      "#FabelleDesserts 1\n",
      "#Nankhatai 1\n",
      "#SweetTreats 1\n",
      "#JoyfulGifting 1\n",
      "#MakeItATEN 1\n",
      "#TinyTENSalon 1\n",
      "#Farmio 1\n",
      "#FarmioGrocery 1\n",
      "#ElevateYourCuisine 1\n",
      "#FreshnessMatters 1\n",
      "#Groceries 1\n",
      "#Meat 1\n",
      "#FrozenMeat 1\n",
      "#Seafood 1\n",
      "#FrozenSeafood 1\n",
      "#Prawns 1\n",
      "#Fish 1\n",
      "#ImportedFruits 1\n",
      "#ITCCollection 1\n",
      "#ByITC 1\n",
      "#Indian 1\n",
      "#IndianFood 1\n",
      "#LuxuryDining 1\n",
      "#MasterChef 1\n",
      "#SignatureMenu 1\n",
      "#Flavourful 1\n",
      "#ResponsibleLuxury 1\n",
      "#Hampers 1\n",
      "#Gift 1\n",
      "#GiftBoxes 1\n",
      "#GiftingDiwali 1\n",
      "#GourmetHampers 1\n",
      "#BakedGifts 1\n",
      "#baileyspayasam 1\n",
      "#baileysdesserts 1\n",
      "#baileys 1\n",
      "#payasam 1\n",
      "#festiverecipes 1\n",
      "#GlasswareGems 1\n",
      "#DiwaliEssentials 1\n",
      "#Diwali2023 1\n",
      "#PartyInStyle 1\n",
      "#Crockery 1\n",
      "#Glassware 1\n",
      "#Luxury 1\n",
      "#Luxe 1\n",
      "#Obsessed 1\n",
      "#PartyButler 1\n",
      "#PartyWithITCHotels 1\n",
      "#ITCHotelsButlers 1\n",
      "#CelebrateDiwali 1\n",
      "#Hosting 1\n",
      "#kolar 1\n",
      "#bangaloretirupatihighway 1\n",
      "#mulbagal 1\n",
      "#monkugoinginternational 1\n",
      "#thailand 1\n",
      "#thailandtourism 1\n",
      "#bangkok 1\n",
      "#pattaya 1\n",
      "#pattayathailand 1\n",
      "#davangere 1\n",
      "#davangerediaries 1\n",
      "#bennedose 1\n",
      "#masaladosa 1\n",
      "#reekkarofeelkaro 1\n",
      "#hassan 1\n",
      "#hassanamba 1\n",
      "#travelgram 1\n",
      "#travelvlogger 1\n",
      "#pulav 1\n",
      "#homefood 1\n",
      "#kitchenrecipes 1\n",
      "#pulao 1\n",
      "#nagarbhavi 1\n",
      "#gulkand 1\n",
      "#eveningsnacks 1\n",
      "#deepavali2023 1\n",
      "#diwali2023 1\n",
      "#marathahalli 1\n",
      "#kajukatli 1\n",
      "#mysorepak 1\n",
      "#motichoorladoo 1\n",
      "#vijaynagar 1\n",
      "#southindianfood 1\n",
      "#breakfast 1\n"
     ]
    }
   ],
   "source": [
    "dct = {}\n",
    "words_list = []\n",
    "for word in hashtags:\n",
    "    dct[word] = dct.get(word,0) + 1\n",
    "    \n",
    "for i in sorted(dct, key=dct.get, reverse=True):\n",
    "    words_list.append([i,dct[i]])\n",
    "    print(i,dct[i])"
   ]
  },
  {
   "cell_type": "code",
   "execution_count": 22,
   "id": "7252520b",
   "metadata": {},
   "outputs": [
    {
     "data": {
      "text/html": [
       "<div>\n",
       "<style scoped>\n",
       "    .dataframe tbody tr th:only-of-type {\n",
       "        vertical-align: middle;\n",
       "    }\n",
       "\n",
       "    .dataframe tbody tr th {\n",
       "        vertical-align: top;\n",
       "    }\n",
       "\n",
       "    .dataframe thead th {\n",
       "        text-align: right;\n",
       "    }\n",
       "</style>\n",
       "<table border=\"1\" class=\"dataframe\">\n",
       "  <thead>\n",
       "    <tr style=\"text-align: right;\">\n",
       "      <th></th>\n",
       "      <th>Words</th>\n",
       "      <th>Frequency</th>\n",
       "    </tr>\n",
       "  </thead>\n",
       "  <tbody>\n",
       "    <tr>\n",
       "      <th>0</th>\n",
       "      <td>#dilsefoodie</td>\n",
       "      <td>10</td>\n",
       "    </tr>\n",
       "    <tr>\n",
       "      <th>1</th>\n",
       "      <td>#food</td>\n",
       "      <td>10</td>\n",
       "    </tr>\n",
       "    <tr>\n",
       "      <th>2</th>\n",
       "      <td>#foodymonk</td>\n",
       "      <td>10</td>\n",
       "    </tr>\n",
       "    <tr>\n",
       "      <th>3</th>\n",
       "      <td>#eatwithmonk</td>\n",
       "      <td>10</td>\n",
       "    </tr>\n",
       "    <tr>\n",
       "      <th>4</th>\n",
       "      <td>#reels</td>\n",
       "      <td>8</td>\n",
       "    </tr>\n",
       "    <tr>\n",
       "      <th>5</th>\n",
       "      <td>#reelsinstagram</td>\n",
       "      <td>8</td>\n",
       "    </tr>\n",
       "    <tr>\n",
       "      <th>6</th>\n",
       "      <td>#reeloftheday</td>\n",
       "      <td>8</td>\n",
       "    </tr>\n",
       "    <tr>\n",
       "      <th>7</th>\n",
       "      <td>#reelitfeelit</td>\n",
       "      <td>8</td>\n",
       "    </tr>\n",
       "    <tr>\n",
       "      <th>8</th>\n",
       "      <td>#kannadareels</td>\n",
       "      <td>8</td>\n",
       "    </tr>\n",
       "    <tr>\n",
       "      <th>9</th>\n",
       "      <td>#streetfood</td>\n",
       "      <td>7</td>\n",
       "    </tr>\n",
       "  </tbody>\n",
       "</table>\n",
       "</div>"
      ],
      "text/plain": [
       "             Words  Frequency\n",
       "0     #dilsefoodie         10\n",
       "1            #food         10\n",
       "2       #foodymonk         10\n",
       "3     #eatwithmonk         10\n",
       "4           #reels          8\n",
       "5  #reelsinstagram          8\n",
       "6    #reeloftheday          8\n",
       "7    #reelitfeelit          8\n",
       "8    #kannadareels          8\n",
       "9      #streetfood          7"
      ]
     },
     "execution_count": 22,
     "metadata": {},
     "output_type": "execute_result"
    }
   ],
   "source": [
    "df = pd.DataFrame(words_list,columns=['Words','Frequency'])\n",
    "#using .to_csv pandas function to convert dataframe to csv\n",
    "df.to_csv('words_frequency.csv',index=False)\n",
    "df.head(10)"
   ]
  },
  {
   "cell_type": "code",
   "execution_count": 23,
   "id": "4e705526",
   "metadata": {},
   "outputs": [
    {
     "name": "stdout",
     "output_type": "stream",
     "text": [
      "#dilsefoodie\n"
     ]
    }
   ],
   "source": [
    "print(words_list[0][0])"
   ]
  },
  {
   "cell_type": "code",
   "execution_count": 24,
   "id": "4aa813c7",
   "metadata": {},
   "outputs": [
    {
     "data": {
      "image/png": "[encoded data removed]",
      "text/plain": [
       "<Figure size 864x432 with 1 Axes>"
      ]
     },
     "metadata": {},
     "output_type": "display_data"
    }
   ],
   "source": [
    "#using answer of problem 2.2\n",
    "hashtag_name = [words_list[0][0],words_list[1][0],words_list[2][0],words_list[3][0],words_list[4][0]]\n",
    "count = [words_list[0][1],words_list[1][1],words_list[2][1],words_list[3][1],words_list[4][1]]\n",
    "plt.figure(figsize=(12,6))\n",
    "plt.pie(count,labels=hashtag_name,autopct='%0.2f%%',radius=1,counterclock=False,startangle=110)\n",
    "plt.title('Top 5 Hashtags used by bloggers ',fontsize=20, color='green',alpha=0.8)\n",
    "plt.show()"
   ]
  },
  {
   "cell_type": "markdown",
   "id": "2abaa1ee",
   "metadata": {},
   "source": [
    "### Problem 3 : Followers : Likes ratio\n",
    "You need to also calculate average followers : likes ratio for the obtained handles. Followers : Likes ratio is calculated as follows:\n",
    "* 1.Find out the likes of the top 10 posts of the 5 handles obtained earlier.\n",
    "* 2.Calculate the average likes for a handle.\n",
    "* 3.Divide the average likes obtained from the number of followers of the handle to get the average followers:like ratio of each handle.\n",
    "* 4.Create a bar graph to depict the above obtained information."
   ]
  },
  {
   "cell_type": "code",
   "execution_count": 25,
   "id": "be51397a",
   "metadata": {},
   "outputs": [],
   "source": [
    "#This function returns list of likes of 10 post of a user\n",
    "def get_likes(user):\n",
    "    try :\n",
    "        likes = []\n",
    "        #This fuction will search a user and open that profile\n",
    "        search_open_profile(user)\n",
    "        time.sleep(3)\n",
    "\n",
    "        #just for scrolling\n",
    "        driver.execute_script('window.scrollTo(0, 3000);')\n",
    "        time.sleep(2)\n",
    "        driver.execute_script('window.scrollTo(0, -3000);')\n",
    "        time.sleep(2)\n",
    "\n",
    "        #locating the post of the user\n",
    "        posts = driver.find_elements(By.XPATH, \"//div[contains (@class, '_aabd')]/a\")\n",
    "        for post in posts[:10]:\n",
    "            post.click()\n",
    "            time.sleep(2)\n",
    "            try : \n",
    "#                     #for getting like on video we need to first click on view then only we can like\n",
    "#                     views = driver.find_element(By.XPATH, \"//section[contains (@class, '_ae5m')]/div//span\")\n",
    "#                     views.click()\n",
    "#                     time.sleep(1)\n",
    "\n",
    "                #locating like and clicking on it\n",
    "                like = driver.find_element(By.XPATH, \"//section[contains (@class, '_ae5m')]/div//span\")\n",
    "                no_of_likes = int(like.text.split()[0].replace(\",\", \"\"))\n",
    "                likes.append(no_of_likes)\n",
    "                time.sleep(3)\n",
    "                #locating close button and clicking on it\n",
    "                close=driver.find_element(By.XPATH, \"//div[contains (@class, 'x160vmok')]//div[contains (@role, 'button')]\")\n",
    "                time.sleep(3)\n",
    "                close.click()\n",
    "                time.sleep(3)\n",
    "            except:\n",
    "                print(\"eror\")\n",
    "                \n",
    "                #if the post is image then this part will execute \n",
    "        return likes\n",
    "    \n",
    "    except TimeoutException :\n",
    "        print(\"Something is wrong\")\n",
    "\n",
    "#                     like = driver.find_element_by_xpath('/html/body/div[4]/div[2]/div/article/div[3]/section[2]/div/div/button/span')\n",
    "#                     no_of_likes = (like.text).replace(',' , '')\n",
    "#                     likes.append(int(no_of_likes))\n",
    "#                     time.sleep(1)\n",
    "#                 #locating close button and clicking on it\n",
    "#                 close=driver.find_element_by_xpath(\"/html/body/div[4]/div[3]/button\")\n",
    "#                 time.sleep(1)\n",
    "#                 close.click()\n",
    "\n",
    "    "
   ]
  },
  {
   "cell_type": "code",
   "execution_count": 26,
   "id": "427cb312",
   "metadata": {},
   "outputs": [
    {
     "name": "stdout",
     "output_type": "stream",
     "text": [
      "Number of likes of the top 10 posts of yourfoodlab :\n",
      "3494 Likes\n",
      "6471 Likes\n",
      "32508 Likes\n",
      "8535 Likes\n",
      "28171 Likes\n",
      "22288 Likes\n",
      "8970 Likes\n",
      "11218 Likes\n",
      "10906 Likes\n",
      "6435 Likes\n",
      "\n",
      "Number of likes of the top 10 posts of dilsefoodie :\n",
      "984 Likes\n",
      "3391 Likes\n",
      "4745 Likes\n",
      "3169 Likes\n",
      "11175 Likes\n",
      "1094 Likes\n",
      "2503 Likes\n",
      "4230 Likes\n",
      "9720 Likes\n",
      "2902 Likes\n",
      "\n",
      "Number of likes of the top 10 posts of foodpharmer :\n",
      "1606117 Likes\n",
      "408345 Likes\n",
      "13678 Likes\n",
      "316017 Likes\n",
      "50855 Likes\n",
      "72981 Likes\n",
      "89564 Likes\n",
      "190137 Likes\n",
      "66984 Likes\n",
      "159872 Likes\n",
      "\n",
      "Number of likes of the top 10 posts of foodtalkindia :\n",
      "27 Likes\n",
      "50 Likes\n",
      "66 Likes\n",
      "237 Likes\n",
      "90 Likes\n",
      "154 Likes\n",
      "319 Likes\n",
      "2349 Likes\n",
      "185 Likes\n",
      "699 Likes\n",
      "\n",
      "Number of likes of the top 10 posts of foody.monk :\n",
      "23884 Likes\n",
      "4988 Likes\n",
      "5025 Likes\n",
      "1875 Likes\n",
      "5349 Likes\n",
      "36031 Likes\n",
      "1796 Likes\n",
      "8384 Likes\n",
      "2876 Likes\n",
      "4244 Likes\n",
      "\n"
     ]
    }
   ],
   "source": [
    "#dct will store username with list of likes\n",
    "dct = {}\n",
    "for user in handles : \n",
    "    likes = get_likes(user)\n",
    "    time.sleep(2)\n",
    "    driver.back()\n",
    "    time.sleep(2)\n",
    "    dct[user] = likes\n",
    "    print('Number of likes of the top 10 posts of',user,':')\n",
    "    for i in likes :\n",
    "        print(i,'Likes')\n",
    "    print()\n"
   ]
  },
  {
   "cell_type": "code",
   "execution_count": 27,
   "id": "06b9a622",
   "metadata": {},
   "outputs": [],
   "source": [
    "#This function will return a dictionary of {'username':average like}\n",
    "def get_avg_likes(d):\n",
    "    avg_likes = {}\n",
    "    for key,val in d.items():\n",
    "            avg = sum(val) // 10\n",
    "            avg_likes[key] = avg\n",
    "    return avg_likes"
   ]
  },
  {
   "cell_type": "code",
   "execution_count": 28,
   "id": "e24ce3dc",
   "metadata": {},
   "outputs": [
    {
     "name": "stdout",
     "output_type": "stream",
     "text": [
      "Average likes for each handle are :\n",
      "yourfoodlab : 13899\n",
      "dilsefoodie : 4391\n",
      "foodpharmer : 297455\n",
      "foodtalkindia : 417\n",
      "foody.monk : 9445\n"
     ]
    }
   ],
   "source": [
    "avg_likes = get_avg_likes(dct)\n",
    "\n",
    "print('Average likes for each handle are :')\n",
    "for user,likes in avg_likes.items():\n",
    "    print(user, ':', likes)"
   ]
  },
  {
   "cell_type": "code",
   "execution_count": 29,
   "id": "3f51a5d4",
   "metadata": {},
   "outputs": [],
   "source": [
    "#This function will return dictionary of {'username':avg followers-like ratio}\n",
    "def getavg_foll_like_ratio(top_handles,avg_like,users):\n",
    "    foll_like = {}\n",
    "    for i in range(5) :\n",
    "        foll_like[users[i]] = top_handles[users[i]]//avg_like[users[i]]\n",
    "    return foll_like"
   ]
  },
  {
   "cell_type": "code",
   "execution_count": 30,
   "id": "8cde7845",
   "metadata": {},
   "outputs": [
    {
     "name": "stdout",
     "output_type": "stream",
     "text": [
      "Average followers:like ratio of each handle :\n",
      "yourfoodlab : 196\n",
      "dilsefoodie : 271\n",
      "foodpharmer : 3\n",
      "foodtalkindia : 743\n",
      "foody.monk : 21\n"
     ]
    }
   ],
   "source": [
    "#here I am using the answer of problem 1.1 which contains a dictionary of {'username':followers} ie top_handles\n",
    "#extracing username from top_handles\n",
    "top_handles_names = list(top_handles.keys())\n",
    "#now calling function getavg_foll_like_ratio(top_handles,avg_like,users) \n",
    "avg_fol_like_ratio = getavg_foll_like_ratio(top_handles, avg_likes, top_handles_names)\n",
    "print('Average followers:like ratio of each handle :')\n",
    "for user,ratio in avg_fol_like_ratio.items():\n",
    "    print(user, ':', ratio)"
   ]
  },
  {
   "cell_type": "code",
   "execution_count": 31,
   "id": "4b21a187",
   "metadata": {},
   "outputs": [
    {
     "data": {
      "image/png": "[encoded data removed]",
      "text/plain": [
       "<Figure size 432x288 with 1 Axes>"
      ]
     },
     "metadata": {
      "needs_background": "light"
     },
     "output_type": "display_data"
    }
   ],
   "source": [
    "#for this I will use answer of problem 3.2 \n",
    "username = list(avg_likes.keys())\n",
    "avg_like = list(avg_likes.values())\n",
    "\n",
    "plt.bar(username,avg_like,color='g',alpha=0.6)\n",
    "plt.ylabel(\"Average Likes\",size=15)\n",
    "plt.xlabel(\"Handle's Name\",size=15)\n",
    "plt.title('Average like for each handle ',fontsize=20, color='green',alpha=0.8)\n",
    "plt.grid()\n",
    "plt.show()"
   ]
  },
  {
   "cell_type": "code",
   "execution_count": 32,
   "id": "cecf76d6",
   "metadata": {},
   "outputs": [
    {
     "data": {
      "image/png": "[encoded data removed]",
      "text/plain": [
       "<Figure size 432x288 with 1 Axes>"
      ]
     },
     "metadata": {
      "needs_background": "light"
     },
     "output_type": "display_data"
    }
   ],
   "source": [
    "#For this I will use answer of problem 3.3\n",
    "username = list(avg_fol_like_ratio.keys())\n",
    "avg_like = list(avg_fol_like_ratio.values())\n",
    "\n",
    "plt.bar(username,avg_like,color='Indigo',alpha=0.6)\n",
    "plt.ylabel(\"Average Followers:Like Ratio\",size=12)\n",
    "plt.xlabel(\"Handle's Name\",size=12)\n",
    "plt.title('Average Followers:Like Ratio of Each Handle ',fontsize=20, color='Indigo',alpha=0.8)\n",
    "plt.grid()\n",
    "plt.show()"
   ]
  },
  {
   "cell_type": "code",
   "execution_count": null,
   "id": "71e9e0da",
   "metadata": {},
   "outputs": [],
   "source": []
  },
  {
   "cell_type": "code",
   "execution_count": null,
   "id": "223758fd",
   "metadata": {},
   "outputs": [],
   "source": []
  }
 ],
 "metadata": {
  "kernelspec": {
   "display_name": "Python 3",
   "language": "python",
   "name": "python3"
  },
  "language_info": {
   "codemirror_mode": {
    "name": "ipython",
    "version": 3
   },
   "file_extension": ".py",
   "mimetype": "text/x-python",
   "name": "python",
   "nbconvert_exporter": "python",
   "pygments_lexer": "ipython3",
   "version": "3.8.8"
  }
 },
 "nbformat": 4,
 "nbformat_minor": 5
}
